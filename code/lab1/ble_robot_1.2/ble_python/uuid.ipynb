{
 "cells": [
  {
   "cell_type": "code",
   "execution_count": 1,
   "id": "f757a7f3-e02b-44b6-b13d-0d5401c00041",
   "metadata": {},
   "outputs": [
    {
     "data": {
      "text/plain": [
       "UUID('6d0b658d-0be2-4ddf-818e-897b0fdf98fb')"
      ]
     },
     "execution_count": 1,
     "metadata": {},
     "output_type": "execute_result"
    }
   ],
   "source": [
    "from uuid import uuid4\n",
    "uuid4()"
   ]
  },
  {
   "cell_type": "code",
   "execution_count": null,
   "id": "db925f0a-45a7-400b-8583-d19aa979709f",
   "metadata": {},
   "outputs": [],
   "source": []
  }
 ],
 "metadata": {
  "kernelspec": {
   "display_name": "Python 3 (ipykernel)",
   "language": "python",
   "name": "python3"
  },
  "language_info": {
   "codemirror_mode": {
    "name": "ipython",
    "version": 3
   },
   "file_extension": ".py",
   "mimetype": "text/x-python",
   "name": "python",
   "nbconvert_exporter": "python",
   "pygments_lexer": "ipython3",
   "version": "3.13.1"
  }
 },
 "nbformat": 4,
 "nbformat_minor": 5
}
