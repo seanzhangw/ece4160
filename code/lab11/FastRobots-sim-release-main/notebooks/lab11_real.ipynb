{
 "cells": [
  {
   "cell_type": "markdown",
   "metadata": {
    "tags": []
   },
   "source": [
    "# Lab 11: Grid Localization using Bayes Filter (Real Robot)\n",
    "\n",
    "### <span style=\"color:rgb(0,150,0)\">It is recommended that you close any heavy-duty applications running on your system while working on this lab.</span>\n",
    "\n",
    "### <span style=\"color:rgb(0,150,0)\">The notebook only provides skeleton code for you to integrate the Localization class with the Real Robot.</span>\n",
    "\n",
    "<hr>"
   ]
  },
  {
   "cell_type": "code",
   "execution_count": null,
   "metadata": {},
   "outputs": [
    {
     "name": "stdout",
     "output_type": "stream",
     "text": [
      "The autoreload extension is already loaded. To reload it, use:\n",
      "  %reload_ext autoreload\n",
      "2025-04-23 15:07:50,729 |\u001b[32m INFO     \u001b[0m|: Logger demo_notebook.log already initialized.\n",
      "2025-04-23 15:07:50,730 |\u001b[32m INFO     \u001b[0m|: GUI is already running. Shutdown notebook to force restart the GUI.\n"
     ]
    }
   ],
   "source": [
    "%load_ext autoreload\n",
    "%autoreload 2\n",
    "\n",
    "import traceback\n",
    "from notebook_utils import *\n",
    "from Traj import *\n",
    "import asyncio\n",
    "import pathlib\n",
    "import os\n",
    "from utils import load_config_params\n",
    "from localization_extras import Localization\n",
    "\n",
    "# The imports below will only work if you copied the required ble-related python files \n",
    "# into the notebooks directory\n",
    "from ble import get_ble_controller\n",
    "from base_ble import LOG\n",
    "from cmd_types import CMD\n",
    "import numpy as np\n",
    "\n",
    "# Setup Logger\n",
    "LOG = get_logger('demo_notebook.log')\n",
    "LOG.propagate = False\n",
    "\n",
    "# Init GUI and Commander\n",
    "gui = GET_GUI()\n",
    "cmdr = gui.launcher.commander"
   ]
  },
  {
   "cell_type": "code",
   "execution_count": 96,
   "metadata": {},
   "outputs": [
    {
     "name": "stdout",
     "output_type": "stream",
     "text": [
      "2025-04-23 16:10:20,999 |\u001b[32m INFO     \u001b[0m|: Creating New Plotter Process\n"
     ]
    }
   ],
   "source": [
    "# STOP_PLOTTER()\n",
    "# Start the plotter\n",
    "START_PLOTTER()"
   ]
  },
  {
   "cell_type": "markdown",
   "metadata": {},
   "source": [
    "# The RealRobot class\n",
    "Define the RealRobot class in the code cell below, based on the documentation and your real robot communication protocol. <br>\n",
    "This class is used by the **Localization** class to communicate with the real robot. <br>\n",
    "More specifically, the **Localization** class utilizes the **RealRobot's** member function **perform_observation_loop()** to get the 18 sensor readings and store them in its member variable **obs_range_data**, which is then utilized in the update step."
   ]
  },
  {
   "cell_type": "code",
   "execution_count": null,
   "metadata": {},
   "outputs": [],
   "source": [
    "import time\n",
    "class RealRobot():\n",
    "    \"\"\"A class to interact with the real robot\n",
    "    \"\"\"\n",
    "    def __init__(self, commander, ble):\n",
    "        # Load world config\n",
    "        self.world_config = os.path.join(str(pathlib.Path(os.getcwd()).parent), \"config\", \"world.yaml\")\n",
    "        \n",
    "        self.config_params = load_config_params(self.world_config)\n",
    "        \n",
    "        # Commander to commuincate with the Plotter process\n",
    "        # Used by the Localization module to plot odom and belief\n",
    "        self.cmdr = commander\n",
    "\n",
    "        # ArtemisBLEController to communicate with the Robot\n",
    "        self.ble = ble\n",
    "\n",
    "    def get_pose(self):\n",
    "        \"\"\"Get robot pose based on odometry\n",
    "        \n",
    "        Returns:\n",
    "            current_odom -- Odometry Pose (meters, meters, degrees)\n",
    "        \"\"\"\n",
    "        raise NotImplementedError(\"get_pose is not implemented\")\n",
    "\n",
    "    async def perform_observation_loop(self, rot_vel=120):\n",
    "        \"\"\"Perform the observation loop behavior on the real robot, where the robot does  \n",
    "        a 360 degree turn in place while collecting equidistant (in the angular space) sensor\n",
    "        readings, with the first sensor reading taken at the robot's current heading. \n",
    "        The number of sensor readings depends on \"observations_count\"(=18) defined in world.yaml.\n",
    "        \n",
    "        Keyword arguments:\n",
    "            rot_vel -- (Optional) Angular Velocity for loop (degrees/second)\n",
    "                        Do not remove this parameter from the function definition, even if you don't use it.\n",
    "        Returns:\n",
    "            sensor_ranges   -- A column numpy array of the range values (meters)\n",
    "            sensor_bearings -- A column numpy array of the bearings at which the sensor readings were taken (degrees)\n",
    "                               The bearing values are not used in the Localization module, so you may return a empty numpy array\n",
    "        \"\"\"\n",
    "        # packet should be in the form of \"yaw_control?|target_yaw_value|max_clockwise_speed|min_clockwise_speed|max_counter_clockwise_speed|min_counter_clockwise_speed|P_GAIN|D_GAIN|alpha\"\n",
    "        for i in range(0, 24):\n",
    "            angle= str(15*i)\n",
    "            self.ble.send_command(CMD.YAW_CONTROL, \"1|\"+ angle + \"|250|40|250|60|11|0.7|0.1\")\n",
    "            time.sleep(1)\n",
    "        self.ble.send_command(CMD.YAW_CONTROL, \"0|0|250|120|0|120|8|0.7|0.1\")\n",
    "\n",
    "        control_timestamps = []\n",
    "        yaw = []\n",
    "        distance = []\n",
    "        distance_2 = []\n",
    "        motor_input = []\n",
    "\n",
    "        def extract_control_data(uuid, byte_array):\n",
    "            string = byte_array.decode(\"utf-8\") \n",
    "            split_str = string.split(\"|\")\n",
    "            control_timestamps.append(int(split_str[0]))\n",
    "            yaw.append(float(split_str[1]))\n",
    "            distance.append(int(split_str[2]))\n",
    "            distance_2.append(int(split_str[3]))\n",
    "            motor_input.append(float(split_str[4]))\n",
    "    \n",
    "        self.ble.start_notify(self.ble.uuid['RX_STRING'], extract_control_data)\n",
    "        self.ble.send_command(CMD.SEND_YAW_MAPPING_DATA, \"\")\n",
    "\n",
    "        async def sleep_for_5_secs():\n",
    "            await asyncio.sleep(5)\n",
    "\n",
    "        await sleep_for_5_secs()\n",
    "\n",
    "        self.ble.stop_notify(self.ble.uuid['RX_STRING'])\n",
    "\n",
    "        np_meters = np.array(distance) / 1000.0\n",
    "        return np_meters[np.newaxis].T, np.array([])\n",
    "\n"
   ]
  },
  {
   "cell_type": "code",
   "execution_count": 90,
   "metadata": {},
   "outputs": [
    {
     "name": "stdout",
     "output_type": "stream",
     "text": [
      "2025-04-23 16:08:49,881 |\u001b[32m INFO     \u001b[0m|: Looking for Artemis Nano Peripheral Device: c0:81:80:25:12:64\n",
      "2025-04-23 16:08:56,578 |\u001b[32m INFO     \u001b[0m|: Connected to c0:81:80:25:12:64\n"
     ]
    }
   ],
   "source": [
    "# Get ArtemisBLEController object\n",
    "ble = get_ble_controller()\n",
    "\n",
    "# Connect to the Artemis Device\n",
    "ble.connect()"
   ]
  },
  {
   "cell_type": "code",
   "execution_count": 91,
   "metadata": {},
   "outputs": [
    {
     "name": "stdout",
     "output_type": "stream",
     "text": [
      "Measured distance: 1306\n",
      "Measured distance: 442\n"
     ]
    }
   ],
   "source": [
    "ble.send_command(CMD.GET_TOF1, \"\")\n",
    "distance1 = int(ble.receive_string(ble.uuid['RX_STRING']))\n",
    "print(f\"Measured distance: {distance1}\")\n",
    "\n",
    "\n",
    "ble.send_command(CMD.GET_TOF2, \"\")\n",
    "distance1 = int(ble.receive_string(ble.uuid['RX_STRING']))\n",
    "print(f\"Measured distance: {distance1}\")"
   ]
  },
  {
   "cell_type": "code",
   "execution_count": 97,
   "metadata": {},
   "outputs": [
    {
     "name": "stdout",
     "output_type": "stream",
     "text": [
      "2025-04-23 16:10:29,095 |\u001b[32m INFO     \u001b[0m|:  | Number of observations per grid cell: 24\n",
      "2025-04-23 16:10:29,097 |\u001b[32m INFO     \u001b[0m|:  | Precaching Views...\n"
     ]
    },
    {
     "name": "stderr",
     "output_type": "stream",
     "text": [
      "c:\\Users\\zhang\\Classes\\ECE_4160\\ece4160\\code\\lab11\\FastRobots-sim-release-main\\localization.py:150: RuntimeWarning: All-NaN slice encountered\n",
      "  return np.nanmin(distance_intersections_tt), intersections_tt[np.nanargmin(distance_intersections_tt)]\n"
     ]
    },
    {
     "name": "stdout",
     "output_type": "stream",
     "text": [
      "2025-04-23 16:10:33,817 |\u001b[32m INFO     \u001b[0m|:  | Precaching Time: 4.718 secs\n",
      "2025-04-23 16:10:33,818 |\u001b[32m INFO     \u001b[0m|: Initializing beliefs with a Uniform Distribution\n",
      "2025-04-23 16:10:33,819 |\u001b[32m INFO     \u001b[0m|: Uniform Belief with each cell value: 0.00051440329218107\n"
     ]
    },
    {
     "name": "stdout",
     "output_type": "stream",
     "text": [
      "2025-04-23 16:13:37,615 |\u001b[32m INFO     \u001b[0m|: Disconnected from C0:81:80:25:12:64\n"
     ]
    }
   ],
   "source": [
    "# Initialize RealRobot with a Commander object to communicate with the plotter process\n",
    "# and the ArtemisBLEController object to communicate with the real robot\n",
    "robot = RealRobot(cmdr, ble)\n",
    "\n",
    "# Initialize mapper\n",
    "# Requires a VirtualRobot object as a parameter\n",
    "mapper = Mapper(robot)\n",
    "\n",
    "# Initialize your BaseLocalization object\n",
    "# Requires a RealRobot object and a Mapper object as parameters\n",
    "loc = Localization(robot, mapper)\n",
    "\n",
    "## Plot Map\n",
    "cmdr.plot_map()"
   ]
  },
  {
   "cell_type": "markdown",
   "metadata": {},
   "source": [
    "# Run an update step of the Bayes Filter"
   ]
  },
  {
   "cell_type": "code",
   "execution_count": 93,
   "metadata": {},
   "outputs": [
    {
     "name": "stdout",
     "output_type": "stream",
     "text": [
      "2025-04-23 16:09:04,483 |\u001b[32m INFO     \u001b[0m|: Initializing beliefs with a Uniform Distribution\n",
      "2025-04-23 16:09:04,487 |\u001b[32m INFO     \u001b[0m|: Uniform Belief with each cell value: 0.00051440329218107\n",
      "[3.881, 10.134, 30.877, 41.673, 58.447, 71.43, 90.527, 108.656, 119.723, 132.999, 152.425, 164.438, 177.689, 199.963, 213.434, 224.877, 236.001, 257.413, 266.074, 280.05, 300.832, 312.887, 329.435, 344.003]\n",
      "[1326, 1573, 1591, 1760, 1940, 1625, 1355, 659, 668, 1344, 1452, 2168, 2009, 720, 690, 760, 1000, 1643, 1493, 1413, 1463, 1522, 1234, 924]\n",
      "2025-04-23 16:09:36,669 |\u001b[32m INFO     \u001b[0m|: Update Step\n",
      "2025-04-23 16:09:36,671 |\u001b[32m INFO     \u001b[0m|:      | Update Time: 0.001 secs\n",
      "2025-04-23 16:09:36,673 |\u001b[32m INFO     \u001b[0m|: Bel index     : (np.int64(6), np.int64(4), np.int64(16)) with prob = 0.9999998\n",
      "2025-04-23 16:09:36,673 |\u001b[32m INFO     \u001b[0m|: Bel_bar prob at index = 0.00051440329218107\n",
      "2025-04-23 16:09:36,674 |\u001b[32m INFO     \u001b[0m|: Belief        : (0.305, 0.000, 150.000)\n"
     ]
    }
   ],
   "source": [
    "# Reset Plots\n",
    "cmdr.reset_plotter()\n",
    "\n",
    "# Init Uniform Belief\n",
    "loc.init_grid_beliefs()\n",
    "\n",
    "# Get Observation Data by executing a 360 degree rotation motion\n",
    "await loc.get_observation_data()\n",
    "\n",
    "# Run Update Step\n",
    "loc.update_step()\n",
    "loc.plot_update_step_data(plot_data=True)\n",
    "\n",
    "# Plot Odom and GT\n",
    "# current_odom, current_gt = robot.get_pose()\n",
    "# cmdr.plot_odom(current_odom[0], current_odom[1])"
   ]
  },
  {
   "cell_type": "code",
   "execution_count": 89,
   "metadata": {},
   "outputs": [
    {
     "name": "stdout",
     "output_type": "stream",
     "text": [
      "2025-04-23 16:08:44,550 |\u001b[32m INFO     \u001b[0m|: Disconnected from C0:81:80:25:12:64\n"
     ]
    }
   ],
   "source": [
    "cmdr.plot_gt(0,0.9914) # 0, 3 = 0, 0.9144\n",
    "# cmdr.plot_gt(1.524,0.9914) # 5, 3 = 1.524, 0.9144\n",
    "# cmdr.plot_gt(1.524,-0.9914) # 5, -3 = 1.524, -0.9144\n",
    "# cmdr.plot_gt(-0.9144,-0.6096) # -3,-2 = -0.9144, -0.6096"
   ]
  }
 ],
 "metadata": {
  "kernelspec": {
   "display_name": "FastRobots_ble",
   "language": "python",
   "name": "python3"
  },
  "language_info": {
   "codemirror_mode": {
    "name": "ipython",
    "version": 3
   },
   "file_extension": ".py",
   "mimetype": "text/x-python",
   "name": "python",
   "nbconvert_exporter": "python",
   "pygments_lexer": "ipython3",
   "version": "3.13.3"
  }
 },
 "nbformat": 4,
 "nbformat_minor": 4
}
